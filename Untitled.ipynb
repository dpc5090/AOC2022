{
 "cells": [
  {
   "cell_type": "code",
   "execution_count": 1,
   "metadata": {},
   "outputs": [],
   "source": [
    "import shutil\n",
    "import os"
   ]
  },
  {
   "cell_type": "code",
   "execution_count": 4,
   "metadata": {},
   "outputs": [
    {
     "name": "stdout",
     "output_type": "stream",
     "text": [
      "day5\n",
      "day6\n",
      "day7\n",
      "day8\n",
      "day9\n",
      "day10\n",
      "day11\n",
      "day12\n",
      "day13\n",
      "day14\n",
      "day15\n",
      "day16\n",
      "day17\n",
      "day18\n",
      "day19\n",
      "day20\n",
      "day21\n",
      "day22\n",
      "day23\n",
      "day24\n",
      "day25\n"
     ]
    }
   ],
   "source": [
    "for i in range(5,26):\n",
    "    print(f'day{i}')\n",
    "    os.mkdir(f'day{i}')"
   ]
  },
  {
   "cell_type": "code",
   "execution_count": null,
   "metadata": {},
   "outputs": [],
   "source": []
  }
 ],
 "metadata": {
  "kernelspec": {
   "display_name": "Python 3",
   "language": "python",
   "name": "python3"
  },
  "language_info": {
   "codemirror_mode": {
    "name": "ipython",
    "version": 3
   },
   "file_extension": ".py",
   "mimetype": "text/x-python",
   "name": "python",
   "nbconvert_exporter": "python",
   "pygments_lexer": "ipython3",
   "version": "3.8.5"
  }
 },
 "nbformat": 4,
 "nbformat_minor": 4
}

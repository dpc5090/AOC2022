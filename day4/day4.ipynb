{
 "cells": [
  {
   "cell_type": "code",
   "execution_count": 12,
   "metadata": {},
   "outputs": [],
   "source": [
    "data = open('input.txt').readlines()\n",
    "data = [x.strip() for x in data]\n",
    "data = [[int(z) for z in y.split(\"-\")]for x in data for y in x.split(\",\")]"
   ]
  },
  {
   "cell_type": "code",
   "execution_count": 14,
   "metadata": {},
   "outputs": [],
   "source": [
    "data_orig = data.copy()"
   ]
  },
  {
   "cell_type": "code",
   "execution_count": 18,
   "metadata": {},
   "outputs": [],
   "source": [
    "data = data_orig.copy()"
   ]
  },
  {
   "cell_type": "code",
   "execution_count": 21,
   "metadata": {},
   "outputs": [
    {
     "data": {
      "text/plain": [
       "507"
      ]
     },
     "execution_count": 21,
     "metadata": {},
     "output_type": "execute_result"
    }
   ],
   "source": [
    "data = data_orig.copy()\n",
    "count = 0\n",
    "while len(data)>0:\n",
    "    \n",
    "    elf1 = data.pop()\n",
    "    elf2 = data.pop()\n",
    "    e1min = elf1[0]\n",
    "    e1max = elf1[1]\n",
    "    e2min = elf2[0]\n",
    "    e2max = elf2[1]\n",
    "    if e1min>=e2min and e1max <=e2max:\n",
    "        count+=1\n",
    "    elif e2min>=e1min and e2max <=e1max:\n",
    "        count+=1\n",
    "count"
   ]
  },
  {
   "cell_type": "code",
   "execution_count": 23,
   "metadata": {},
   "outputs": [
    {
     "data": {
      "text/plain": [
       "897"
      ]
     },
     "execution_count": 23,
     "metadata": {},
     "output_type": "execute_result"
    }
   ],
   "source": [
    "data = data_orig.copy()\n",
    "count = 0\n",
    "while len(data)>0:\n",
    "    \n",
    "    elf1 = data.pop()\n",
    "    elf2 = data.pop()\n",
    "    e1min = elf1[0]\n",
    "    e1max = elf1[1]\n",
    "    e2min = elf2[0]\n",
    "    e2max = elf2[1]\n",
    "    if e1min<=e2min and e1max >=e2min:\n",
    "        count+=1\n",
    "    elif e2min<e1min and e2max >=e1min:\n",
    "        count+=1\n",
    "count"
   ]
  },
  {
   "cell_type": "code",
   "execution_count": null,
   "metadata": {},
   "outputs": [],
   "source": []
  }
 ],
 "metadata": {
  "kernelspec": {
   "display_name": "Python 3",
   "language": "python",
   "name": "python3"
  },
  "language_info": {
   "codemirror_mode": {
    "name": "ipython",
    "version": 3
   },
   "file_extension": ".py",
   "mimetype": "text/x-python",
   "name": "python",
   "nbconvert_exporter": "python",
   "pygments_lexer": "ipython3",
   "version": "3.8.5"
  }
 },
 "nbformat": 4,
 "nbformat_minor": 4
}

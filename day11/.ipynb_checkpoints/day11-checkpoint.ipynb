{
 "cells": [
  {
   "cell_type": "code",
   "execution_count": 4,
   "metadata": {},
   "outputs": [],
   "source": [
    "data = open('sample.txt').read().split('\\n\\n')"
   ]
  },
  {
   "cell_type": "code",
   "execution_count": 6,
   "metadata": {
    "scrolled": true
   },
   "outputs": [
    {
     "data": {
      "text/plain": [
       "[['Monkey 0:',\n",
       "  '  Starting items: 79, 98',\n",
       "  '  Operation: new = old * 19',\n",
       "  '  Test: divisible by 23',\n",
       "  '    If true: throw to monkey 2',\n",
       "  '    If false: throw to monkey 3'],\n",
       " ['Monkey 1:',\n",
       "  '  Starting items: 54, 65, 75, 74',\n",
       "  '  Operation: new = old + 6',\n",
       "  '  Test: divisible by 19',\n",
       "  '    If true: throw to monkey 2',\n",
       "  '    If false: throw to monkey 0'],\n",
       " ['Monkey 2:',\n",
       "  '  Starting items: 79, 60, 97',\n",
       "  '  Operation: new = old * old',\n",
       "  '  Test: divisible by 13',\n",
       "  '    If true: throw to monkey 1',\n",
       "  '    If false: throw to monkey 3'],\n",
       " ['Monkey 3:',\n",
       "  '  Starting items: 74',\n",
       "  '  Operation: new = old + 3',\n",
       "  '  Test: divisible by 17',\n",
       "  '    If true: throw to monkey 0',\n",
       "  '    If false: throw to monkey 1']]"
      ]
     },
     "execution_count": 6,
     "metadata": {},
     "output_type": "execute_result"
    }
   ],
   "source": [
    "data = [x.split(\"\\n\")for x in data]\n",
    "data"
   ]
  },
  {
   "cell_type": "code",
   "execution_count": 100,
   "metadata": {},
   "outputs": [],
   "source": [
    "def monkey0():\n",
    "    \n",
    "    for item in monkeys[0]:\n",
    "        new = item*19\n",
    "        new = int(new/3)\n",
    "        if new%23==0:\n",
    "            monkeys[2].append(int(new))\n",
    "        else:\n",
    "            monkeys[3].append(int(new))\n",
    "    monkeys[0]=[]\n",
    "def monkey1():\n",
    "    \n",
    "    for item in monkeys[1]:\n",
    "      \n",
    "        new = item+6\n",
    "        new = int(new/3)\n",
    "        if new%19==0:\n",
    "            monkeys[2].append(int(new))\n",
    "        else:\n",
    "            monkeys[0].append(int(new))\n",
    "    monkeys[1]=[]\n",
    "def monkey2():\n",
    "    \n",
    "    for item in monkeys[2]:\n",
    "        new = item*item\n",
    "        new = int(new/3)\n",
    "        if new%13==0:\n",
    "            monkeys[1].append(int(new))\n",
    "        else:\n",
    "            monkeys[3].append(int(new))\n",
    "    monkeys[2]=[]\n",
    "    \n",
    "def monkey3():\n",
    "    \n",
    "    for item in monkeys[3]:\n",
    "        new = item+3\n",
    "        new = int(new/3)\n",
    "        if new%17==0:\n",
    "            monkeys[0].append(int(new))\n",
    "        else:\n",
    "            monkeys[1].append(int(new))\n",
    "    monkeys[3]=[]"
   ]
  },
  {
   "cell_type": "code",
   "execution_count": 101,
   "metadata": {},
   "outputs": [
    {
     "data": {
      "text/plain": [
       "[[10, 12, 14, 26, 34], [245, 93, 53, 199, 115], [], []]"
      ]
     },
     "execution_count": 101,
     "metadata": {},
     "output_type": "execute_result"
    }
   ],
   "source": [
    "monkeys"
   ]
  },
  {
   "cell_type": "code",
   "execution_count": 102,
   "metadata": {},
   "outputs": [],
   "source": [
    "monkey0()"
   ]
  },
  {
   "cell_type": "code",
   "execution_count": 103,
   "metadata": {},
   "outputs": [
    {
     "data": {
      "text/plain": [
       "[[], [245, 93, 53, 199, 115], [], [63, 76, 88, 164, 215]]"
      ]
     },
     "execution_count": 103,
     "metadata": {},
     "output_type": "execute_result"
    }
   ],
   "source": [
    "monkeys"
   ]
  },
  {
   "cell_type": "code",
   "execution_count": 104,
   "metadata": {},
   "outputs": [
    {
     "name": "stdout",
     "output_type": "stream",
     "text": [
      "83\n",
      "33\n",
      "19\n",
      "68\n",
      "40\n"
     ]
    },
    {
     "data": {
      "text/plain": [
       "[[83, 33, 68, 40], [], [19], [63, 76, 88, 164, 215]]"
      ]
     },
     "execution_count": 104,
     "metadata": {},
     "output_type": "execute_result"
    }
   ],
   "source": [
    "monkey1()\n",
    "monkeys"
   ]
  },
  {
   "cell_type": "code",
   "execution_count": 105,
   "metadata": {},
   "outputs": [
    {
     "data": {
      "text/plain": [
       "[[83, 33, 68, 40], [22, 26, 30, 55, 72, 41], [], []]"
      ]
     },
     "execution_count": 105,
     "metadata": {},
     "output_type": "execute_result"
    }
   ],
   "source": [
    "monkey2()\n",
    "monkeys\n",
    "monkey3()\n",
    "monkeys"
   ]
  },
  {
   "cell_type": "code",
   "execution_count": 106,
   "metadata": {},
   "outputs": [],
   "source": [
    "monkeys = [[int(y) for y in x[1].split(\":\")[-1].strip().split(\", \")] for x in data]"
   ]
  },
  {
   "cell_type": "code",
   "execution_count": 107,
   "metadata": {},
   "outputs": [
    {
     "name": "stdout",
     "output_type": "stream",
     "text": [
      "20\n",
      "23\n",
      "27\n",
      "26\n",
      "1\n",
      "[[20, 23, 27, 26], [2080, 25, 167, 207, 401, 1046], [], []]\n",
      "695\n",
      "10\n",
      "57\n",
      "71\n",
      "135\n",
      "350\n",
      "1\n",
      "[[695, 10, 71, 135, 350], [43, 49, 58, 55, 362], [], []]\n",
      "16\n",
      "18\n",
      "21\n",
      "20\n",
      "122\n",
      "1\n",
      "[[16, 18, 21, 20, 122], [1468, 22, 150, 286, 739], [], []]\n",
      "491\n",
      "9\n",
      "52\n",
      "97\n",
      "248\n",
      "1\n",
      "[[491, 9, 52, 97, 248, 34], [39, 45, 43, 258], [], []]\n",
      "15\n",
      "17\n",
      "16\n",
      "88\n",
      "1\n",
      "[[15, 17, 16, 88, 1037], [20, 110, 205, 524, 72], [], []]\n",
      "8\n",
      "38\n",
      "70\n",
      "176\n",
      "26\n",
      "1\n",
      "[[8, 70, 176, 26, 34], [481, 32, 36, 186, 2190], [], []]\n",
      "162\n",
      "12\n",
      "14\n",
      "64\n",
      "732\n",
      "1\n",
      "[[162, 12, 14, 64, 732, 17], [148, 372, 55, 72], [], []]\n",
      "51\n",
      "126\n",
      "20\n",
      "26\n",
      "1\n",
      "[[51, 126, 20, 26, 136], [343, 26, 30, 1546, 36], [], []]\n",
      "116\n",
      "10\n",
      "12\n",
      "517\n",
      "14\n",
      "1\n",
      "[[116, 10, 12, 517, 14], [108, 267, 43, 55, 288], [], []]\n",
      "38\n",
      "91\n",
      "16\n",
      "20\n",
      "98\n",
      "1\n",
      "[[91, 16, 20, 98], [481, 245, 22, 26, 1092, 30], [], []]\n",
      "162\n",
      "83\n",
      "9\n",
      "10\n",
      "366\n",
      "12\n",
      "1\n",
      "[[162, 83, 9, 10, 366, 12, 34], [193, 43, 207], [], []]\n",
      "66\n",
      "16\n",
      "71\n",
      "1\n",
      "[[66, 16, 71], [343, 176, 20, 22, 773, 26, 72], [], []]\n",
      "116\n",
      "60\n",
      "8\n",
      "9\n",
      "259\n",
      "10\n",
      "26\n",
      "1\n",
      "[[116, 60, 8, 9, 259, 10, 26, 34], [140, 150], [], []]\n",
      "48\n",
      "52\n",
      "1\n",
      "[[48, 52, 17], [245, 127, 20, 547, 22, 55, 72], [], []]\n",
      "83\n",
      "44\n",
      "8\n",
      "184\n",
      "9\n",
      "20\n",
      "26\n",
      "1\n",
      "[[83, 44, 8, 184, 9, 20, 26, 102], [110, 36], [], []]\n",
      "38\n",
      "14\n",
      "1\n",
      "[[14, 17], [481, 176, 93, 389, 20, 43, 55, 216], [], []]\n",
      "162\n",
      "60\n",
      "33\n",
      "131\n",
      "8\n",
      "16\n",
      "20\n",
      "74\n",
      "1\n",
      "[[162, 60, 33, 131, 8, 16, 20, 74], [30, 36], [], []]\n",
      "12\n",
      "14\n",
      "1\n",
      "[[12, 14, 17, 34], [343, 127, 70, 277, 43, 157], [], []]\n",
      "116\n",
      "44\n",
      "25\n",
      "94\n",
      "16\n",
      "54\n",
      "1\n",
      "[[116, 44, 25, 94, 16, 54], [26, 30, 36, 72], [], []]\n",
      "10\n",
      "12\n",
      "14\n",
      "26\n",
      "1\n",
      "[[10, 12, 14, 26, 34], [245, 93, 53, 199, 115], [], []]\n"
     ]
    }
   ],
   "source": [
    "for i in range(20):\n",
    "    monkey0()\n",
    "    monkey1()\n",
    "    monkey2()\n",
    "    monkey3()\n",
    "    print(1)\n",
    "    print(monkeys)"
   ]
  },
  {
   "cell_type": "code",
   "execution_count": null,
   "metadata": {},
   "outputs": [],
   "source": []
  }
 ],
 "metadata": {
  "kernelspec": {
   "display_name": "Python 3",
   "language": "python",
   "name": "python3"
  },
  "language_info": {
   "codemirror_mode": {
    "name": "ipython",
    "version": 3
   },
   "file_extension": ".py",
   "mimetype": "text/x-python",
   "name": "python",
   "nbconvert_exporter": "python",
   "pygments_lexer": "ipython3",
   "version": "3.8.5"
  }
 },
 "nbformat": 4,
 "nbformat_minor": 4
}

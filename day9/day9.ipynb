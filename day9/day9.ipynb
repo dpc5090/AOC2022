{
 "cells": [
  {
   "cell_type": "code",
   "execution_count": 165,
   "metadata": {},
   "outputs": [],
   "source": [
    "data = open('input.txt').read().split(\"\\n\")\n"
   ]
  },
  {
   "cell_type": "code",
   "execution_count": 166,
   "metadata": {},
   "outputs": [],
   "source": [
    "data = data[:-1]"
   ]
  },
  {
   "cell_type": "code",
   "execution_count": 167,
   "metadata": {},
   "outputs": [
    {
     "data": {
      "text/plain": [
       "[3, 4]"
      ]
     },
     "execution_count": 167,
     "metadata": {},
     "output_type": "execute_result"
    }
   ],
   "source": [
    "def updatetail(head,tail):\n",
    "    tail = list(tail)\n",
    "    hor_diff = head[0] - tail[0]\n",
    "    vert_diff = head[1]-tail[1]\n",
    "    if abs(hor_diff)+abs(vert_diff)>2:\n",
    "        \n",
    "        if abs(hor_diff)>abs(vert_diff):\n",
    "            tail[0]+=1*(hor_diff>0)-1*(hor_diff<0)\n",
    "            tail[1] = head[1]\n",
    "        elif abs(hor_diff)<abs(vert_diff):\n",
    "            tail[1]+=1*(vert_diff>0)-1*(vert_diff<0)\n",
    "            tail[0] = head[0]\n",
    "        else:\n",
    "            tail[1]+=1*(vert_diff>0)-1*(vert_diff<0)\n",
    "            tail[0]+=1*(hor_diff>0)-1*(hor_diff<0)\n",
    "    elif abs(hor_diff) >1:\n",
    "        tail[0]+=1*(hor_diff>0)-1*(hor_diff<0)\n",
    "    elif abs(vert_diff)>1:\n",
    "        tail[1]+=1*(vert_diff>0)-1*(vert_diff<0)\n",
    "    return tail\n",
    "updatetail([2,4],[4,3])"
   ]
  },
  {
   "cell_type": "code",
   "execution_count": 168,
   "metadata": {},
   "outputs": [],
   "source": [
    "def updateRope(rope):\n",
    "    for i in range(len(rope)-1):\n",
    "        rope[i+1] = updatetail(rope[i], rope[i+1])\n",
    "    return rope"
   ]
  },
  {
   "cell_type": "code",
   "execution_count": 169,
   "metadata": {},
   "outputs": [],
   "source": [
    "tail_poisistions = []\n",
    "cur_head = [0,0]\n",
    "cur_tail = [0,0]\n"
   ]
  },
  {
   "cell_type": "code",
   "execution_count": 170,
   "metadata": {},
   "outputs": [],
   "source": [
    "all_tail_pos = []\n",
    "for direction in data:\n",
    "#     print(direction)\n",
    "    pos,step = direction.split(\" \")\n",
    "    step = int(step)\n",
    "    if pos == 'U':\n",
    "        for i in range(step):\n",
    "            cur_head[1]+=1\n",
    "            cur_tail = updatetail(cur_head,cur_tail)\n",
    "#             print(\"T\",cur_tail)\n",
    "            all_tail_pos.append(cur_tail)\n",
    "    if pos == 'D':\n",
    "        for i in range(step):\n",
    "            cur_head[1]-=1\n",
    "            cur_tail = updatetail(cur_head,cur_tail)\n",
    "            all_tail_pos.append(cur_tail)\n",
    "#             print(\"T\",cur_tail)\n",
    "    if pos == 'L':\n",
    "        for i in range(step):\n",
    "            cur_head[0]-=1\n",
    "            cur_tail = updatetail(cur_head,cur_tail)\n",
    "#             print(\"T\",cur_tail)\n",
    "            all_tail_pos.append(cur_tail)\n",
    "    if pos == 'R':\n",
    "        for i in range(step):\n",
    "            cur_head[0]+=1\n",
    "            cur_tail = updatetail(cur_head,cur_tail)\n",
    "            all_tail_pos.append(cur_tail)\n",
    "#             print(\"T\",cur_tail)\n",
    "#     print(\"HERE\",len(list(set([f'{x}_{y}'for x,y in all_tail_pos]))))"
   ]
  },
  {
   "cell_type": "code",
   "execution_count": 171,
   "metadata": {},
   "outputs": [
    {
     "data": {
      "text/plain": [
       "6212"
      ]
     },
     "execution_count": 171,
     "metadata": {},
     "output_type": "execute_result"
    }
   ],
   "source": [
    "len(list(set([f'{x}_{y}'for x,y in all_tail_pos])))"
   ]
  },
  {
   "cell_type": "code",
   "execution_count": 172,
   "metadata": {},
   "outputs": [],
   "source": [
    "rope = [[0,0] for i in range(10)]"
   ]
  },
  {
   "cell_type": "code",
   "execution_count": 173,
   "metadata": {},
   "outputs": [],
   "source": [
    "all_tail_pos = []\n",
    "for direction in data:\n",
    "    pos,step = direction.split(\" \")\n",
    "    step = int(step)\n",
    "    if pos == 'U':\n",
    "        for i in range(step):\n",
    "            rope[0][1]+=1\n",
    "            rope = updateRope(rope)\n",
    "#             print(\"T\",cur_tail)\n",
    "            all_tail_pos.append(rope[-1])\n",
    "    if pos == 'D':\n",
    "        for i in range(step):\n",
    "            rope[0][1]-=1\n",
    "            rope = updateRope(rope)\n",
    "#             print(\"T\",cur_tail)\n",
    "            all_tail_pos.append(rope[-1])\n",
    "    if pos == 'L':\n",
    "        for i in range(step):\n",
    "            rope[0][0]-=1\n",
    "            rope = updateRope(rope)\n",
    "#             print(\"T\",cur_tail)\n",
    "            all_tail_pos.append(rope[-1])\n",
    "    if pos == 'R':\n",
    "        for i in range(step):\n",
    "            rope[0][0]+=1\n",
    "            rope = updateRope(rope)\n",
    "#             print(\"T\",cur_tail)\n",
    "            all_tail_pos.append(rope[-1])\n",
    "#             print(\"T\",cur_tail)\n"
   ]
  },
  {
   "cell_type": "code",
   "execution_count": 174,
   "metadata": {},
   "outputs": [
    {
     "data": {
      "text/plain": [
       "2522"
      ]
     },
     "execution_count": 174,
     "metadata": {},
     "output_type": "execute_result"
    }
   ],
   "source": [
    "len(list(set([f'{x}_{y}'for x,y in all_tail_pos])))"
   ]
  },
  {
   "cell_type": "code",
   "execution_count": null,
   "metadata": {},
   "outputs": [],
   "source": []
  }
 ],
 "metadata": {
  "kernelspec": {
   "display_name": "Python 3",
   "language": "python",
   "name": "python3"
  },
  "language_info": {
   "codemirror_mode": {
    "name": "ipython",
    "version": 3
   },
   "file_extension": ".py",
   "mimetype": "text/x-python",
   "name": "python",
   "nbconvert_exporter": "python",
   "pygments_lexer": "ipython3",
   "version": "3.8.5"
  }
 },
 "nbformat": 4,
 "nbformat_minor": 4
}

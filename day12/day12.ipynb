{
 "cells": [
  {
   "cell_type": "code",
   "execution_count": 24,
   "metadata": {},
   "outputs": [],
   "source": [
    "data = open('input.txt').read().split('\\n')"
   ]
  },
  {
   "cell_type": "code",
   "execution_count": 25,
   "metadata": {},
   "outputs": [],
   "source": [
    "data = [[ord(c)-97 for c in line] for line in data]"
   ]
  },
  {
   "cell_type": "code",
   "execution_count": 26,
   "metadata": {},
   "outputs": [],
   "source": [
    "import numpy as np\n",
    "data = np.array(data)"
   ]
  },
  {
   "cell_type": "code",
   "execution_count": 27,
   "metadata": {},
   "outputs": [
    {
     "data": {
      "text/plain": [
       "array([[0, 1, 2, ..., 0, 0, 0],\n",
       "       [0, 1, 0, ..., 0, 0, 0],\n",
       "       [0, 1, 0, ..., 0, 0, 0],\n",
       "       ...,\n",
       "       [0, 1, 2, ..., 0, 0, 0],\n",
       "       [0, 1, 2, ..., 0, 0, 0],\n",
       "       [0, 1, 2, ..., 0, 0, 0]])"
      ]
     },
     "execution_count": 27,
     "metadata": {},
     "output_type": "execute_result"
    }
   ],
   "source": [
    "data"
   ]
  },
  {
   "cell_type": "code",
   "execution_count": 28,
   "metadata": {},
   "outputs": [],
   "source": [
    "start = np.where(data == -14)\n",
    "end = np.where(data == -28)"
   ]
  },
  {
   "cell_type": "code",
   "execution_count": 29,
   "metadata": {},
   "outputs": [
    {
     "data": {
      "text/plain": [
       "([20, 0], [20, 138])"
      ]
     },
     "execution_count": 29,
     "metadata": {},
     "output_type": "execute_result"
    }
   ],
   "source": [
    "start = [start[0][0], start[1][0]]\n",
    "start\n",
    "end = [end[0][0], end[1][0]]\n",
    "start,end"
   ]
  },
  {
   "cell_type": "code",
   "execution_count": 30,
   "metadata": {},
   "outputs": [],
   "source": [
    "def getMoves(pos, data):\n",
    "    x,y = pos\n",
    "    value = data[x,y]\n",
    "    pos_moves = []\n",
    "    if x>0:\n",
    "        if data[x-1,y]-value<2:\n",
    "            pos_moves.append([x-1,y])\n",
    "    if x < data.shape[0]-1:\n",
    "        if data[x+1,y]-value<2:\n",
    "            pos_moves.append([x+1,y])\n",
    "    if y>0:\n",
    "        if data[x,y-1]-value<2:\n",
    "            pos_moves.append([x,y-1])\n",
    "    if y<data.shape[1]-1:\n",
    "        if data[x,y+1]-value<2:\n",
    "            pos_moves.append([x,y+1])\n",
    "    return pos_moves"
   ]
  },
  {
   "cell_type": "code",
   "execution_count": 31,
   "metadata": {},
   "outputs": [],
   "source": [
    "data[start[0],start[1]] = 0\n",
    "data[end[0],end[1]] = 26"
   ]
  },
  {
   "cell_type": "code",
   "execution_count": 32,
   "metadata": {},
   "outputs": [],
   "source": [
    "min_d = {}\n",
    "min_d[\"_\".join([str(x) for x in start])] = 0"
   ]
  },
  {
   "cell_type": "code",
   "execution_count": 33,
   "metadata": {},
   "outputs": [
    {
     "name": "stdout",
     "output_type": "stream",
     "text": [
      "HEREEE 722\n",
      "HEREEE 720\n",
      "HEREEE 718\n",
      "HEREEE 716\n",
      "HEREEE 714\n",
      "HEREEE 712\n",
      "HEREEE 710\n",
      "HEREEE 708\n",
      "HEREEE 706\n",
      "HEREEE 704\n",
      "HEREEE 702\n",
      "HEREEE 700\n",
      "HEREEE 698\n",
      "HEREEE 696\n",
      "HEREEE 694\n",
      "HEREEE 692\n",
      "HEREEE 690\n",
      "HEREEE 688\n",
      "HEREEE 686\n",
      "HEREEE 684\n",
      "HEREEE 682\n",
      "HEREEE 680\n",
      "HEREEE 678\n",
      "HEREEE 676\n",
      "HEREEE 674\n",
      "HEREEE 672\n",
      "HEREEE 670\n",
      "HEREEE 668\n",
      "HEREEE 666\n",
      "HEREEE 664\n",
      "HEREEE 662\n",
      "HEREEE 660\n",
      "HEREEE 658\n",
      "HEREEE 656\n",
      "HEREEE 654\n",
      "HEREEE 652\n",
      "HEREEE 650\n",
      "HEREEE 648\n",
      "HEREEE 646\n",
      "HEREEE 644\n",
      "HEREEE 642\n",
      "HEREEE 640\n",
      "HEREEE 638\n",
      "HEREEE 636\n",
      "HEREEE 634\n",
      "HEREEE 632\n",
      "HEREEE 630\n",
      "HEREEE 628\n",
      "HEREEE 626\n",
      "HEREEE 624\n",
      "HEREEE 622\n",
      "HEREEE 620\n",
      "HEREEE 618\n",
      "HEREEE 616\n",
      "HEREEE 614\n",
      "HEREEE 612\n",
      "HEREEE 610\n",
      "HEREEE 608\n",
      "HEREEE 606\n",
      "HEREEE 604\n",
      "HEREEE 602\n",
      "HEREEE 600\n",
      "HEREEE 598\n",
      "HEREEE 596\n",
      "HEREEE 594\n",
      "HEREEE 592\n",
      "HEREEE 590\n",
      "HEREEE 588\n",
      "HEREEE 586\n",
      "HEREEE 584\n",
      "HEREEE 582\n",
      "HEREEE 580\n",
      "HEREEE 578\n",
      "HEREEE 576\n",
      "HEREEE 574\n",
      "HEREEE 572\n",
      "HEREEE 570\n",
      "HEREEE 568\n",
      "HEREEE 566\n",
      "HEREEE 564\n",
      "HEREEE 562\n",
      "HEREEE 560\n",
      "HEREEE 558\n",
      "HEREEE 556\n",
      "HEREEE 554\n",
      "HEREEE 552\n",
      "HEREEE 550\n",
      "HEREEE 548\n",
      "HEREEE 546\n",
      "HEREEE 544\n",
      "HEREEE 542\n",
      "HEREEE 540\n",
      "HEREEE 538\n",
      "HEREEE 536\n",
      "HEREEE 534\n",
      "HEREEE 532\n",
      "HEREEE 530\n",
      "HEREEE 528\n",
      "HEREEE 526\n",
      "HEREEE 524\n",
      "HEREEE 522\n",
      "HEREEE 520\n",
      "HEREEE 518\n",
      "HEREEE 516\n",
      "HEREEE 514\n",
      "HEREEE 512\n",
      "HEREEE 510\n",
      "HEREEE 508\n",
      "HEREEE 506\n",
      "HEREEE 504\n",
      "HEREEE 502\n",
      "HEREEE 500\n",
      "HEREEE 498\n",
      "HEREEE 496\n",
      "HEREEE 494\n",
      "HEREEE 492\n",
      "HEREEE 490\n",
      "HEREEE 488\n",
      "HEREEE 486\n",
      "HEREEE 484\n",
      "HEREEE 482\n",
      "HEREEE 480\n",
      "HEREEE 478\n",
      "HEREEE 476\n",
      "HEREEE 474\n",
      "HEREEE 472\n",
      "HEREEE 470\n",
      "HEREEE 468\n",
      "HEREEE 466\n",
      "HEREEE 464\n",
      "HEREEE 462\n",
      "HEREEE 460\n",
      "HEREEE 458\n",
      "HEREEE 456\n",
      "HEREEE 454\n",
      "HEREEE 452\n",
      "HEREEE 450\n",
      "HEREEE 448\n",
      "HEREEE 446\n",
      "HEREEE 444\n",
      "HEREEE 442\n"
     ]
    }
   ],
   "source": [
    "to_check = [start]\n",
    "while len(to_check)>0:\n",
    "    cur_pos = to_check.pop()\n",
    "    if cur_pos == end:\n",
    "        print(\"HEREEE\",min_d[\"_\".join([str(x) for x in end])])\n",
    "    \n",
    "    pos_moves = getMoves(cur_pos,data)\n",
    "#     print(cur_pos, pos_moves)\n",
    "    cur_val = min_d[\"_\".join([str(x) for x in cur_pos])]\n",
    "    for pos in pos_moves:\n",
    "        pos_key = \"_\".join([str(x) for x in pos])\n",
    "        if pos_key in min_d:\n",
    "            if min_d[pos_key]> cur_val+1:\n",
    "                min_d[pos_key] = min(min_d[pos_key], cur_val+1)\n",
    "                to_check.append(pos)\n",
    "        else:\n",
    "            min_d[pos_key] = cur_val+1\n",
    "            to_check.append(pos)"
   ]
  },
  {
   "cell_type": "code",
   "execution_count": null,
   "metadata": {},
   "outputs": [],
   "source": [
    "\n"
   ]
  },
  {
   "cell_type": "code",
   "execution_count": 11,
   "metadata": {},
   "outputs": [
    {
     "data": {
      "text/plain": [
       "31"
      ]
     },
     "execution_count": 11,
     "metadata": {},
     "output_type": "execute_result"
    }
   ],
   "source": [
    "min_d[\"_\".join([str(x) for x in end])]"
   ]
  },
  {
   "cell_type": "code",
   "execution_count": 40,
   "metadata": {},
   "outputs": [
    {
     "name": "stdout",
     "output_type": "stream",
     "text": [
      "0 0 0\n",
      "START 0 0\n",
      "HEREEE 452\n",
      "1 0 0\n",
      "START 1 0\n",
      "HEREEE 451\n",
      "2 0 0\n",
      "START 2 0\n",
      "HEREEE 450\n",
      "3 0 0\n",
      "START 3 0\n",
      "HEREEE 449\n",
      "4 0 0\n",
      "START 4 0\n",
      "HEREEE 448\n",
      "5 0 0\n",
      "START 5 0\n",
      "HEREEE 447\n",
      "6 0 0\n",
      "START 6 0\n",
      "HEREEE 446\n",
      "7 0 0\n",
      "START 7 0\n",
      "HEREEE 445\n",
      "8 0 0\n",
      "START 8 0\n",
      "HEREEE 444\n",
      "9 0 0\n",
      "START 9 0\n",
      "HEREEE 443\n",
      "10 0 0\n",
      "START 10 0\n",
      "HEREEE 442\n",
      "11 0 0\n",
      "START 11 0\n",
      "HEREEE 441\n",
      "12 0 0\n",
      "START 12 0\n",
      "HEREEE 442\n",
      "13 0 0\n",
      "START 13 0\n",
      "HEREEE 443\n",
      "14 0 0\n",
      "START 14 0\n",
      "HEREEE 444\n",
      "15 0 0\n",
      "START 15 0\n",
      "HEREEE 445\n",
      "16 0 0\n",
      "START 16 0\n",
      "HEREEE 446\n",
      "17 0 0\n",
      "START 17 0\n",
      "HEREEE 445\n",
      "18 0 0\n",
      "START 18 0\n",
      "HEREEE 444\n",
      "19 0 0\n",
      "START 19 0\n",
      "HEREEE 443\n",
      "20 0 0\n",
      "START 20 0\n",
      "HEREEE 442\n",
      "21 0 0\n",
      "START 21 0\n",
      "HEREEE 443\n",
      "22 0 0\n",
      "START 22 0\n",
      "HEREEE 444\n",
      "23 0 0\n",
      "START 23 0\n",
      "HEREEE 445\n",
      "24 0 0\n",
      "START 24 0\n",
      "HEREEE 446\n",
      "25 0 0\n",
      "START 25 0\n",
      "HEREEE 447\n",
      "26 0 0\n",
      "START 26 0\n",
      "HEREEE 448\n",
      "27 0 0\n",
      "START 27 0\n",
      "HEREEE 449\n",
      "28 0 0\n",
      "START 28 0\n",
      "HEREEE 448\n",
      "29 0 0\n",
      "START 29 0\n",
      "HEREEE 449\n",
      "30 0 0\n",
      "START 30 0\n",
      "HEREEE 450\n",
      "31 0 0\n",
      "START 31 0\n",
      "HEREEE 451\n",
      "32 0 0\n",
      "START 32 0\n",
      "HEREEE 452\n",
      "33 0 0\n",
      "START 33 0\n",
      "HEREEE 453\n",
      "34 0 0\n",
      "START 34 0\n",
      "HEREEE 454\n",
      "35 0 0\n",
      "START 35 0\n",
      "HEREEE 455\n",
      "36 0 0\n",
      "START 36 0\n",
      "HEREEE 456\n",
      "37 0 0\n",
      "START 37 0\n",
      "HEREEE 457\n",
      "38 0 0\n",
      "START 38 0\n",
      "HEREEE 458\n",
      "39 0 0\n",
      "START 39 0\n",
      "HEREEE 459\n",
      "40 0 0\n",
      "START 40 0\n",
      "HEREEE 460\n"
     ]
    }
   ],
   "source": [
    "for x,y in zip(xs,ys):\n",
    "    if y == 0:\n",
    "        print(x,y, data[x,y])\n",
    "        min_d = {}\n",
    "        start = [x,y]\n",
    "        min_d[\"_\".join([str(x) for x in start])] = 0\n",
    "\n",
    "        to_check = [start]\n",
    "        print(\"START\",x,y)\n",
    "        while len(to_check)>0:\n",
    "            cur_pos = to_check.pop()\n",
    "            if cur_pos == end:\n",
    "#                 print(\"HEREEE\",min_d[\"_\".join([str(x) for x in end])])\n",
    "                pass\n",
    "            pos_moves = getMoves(cur_pos,data)\n",
    "        #     print(cur_pos, pos_moves)\n",
    "            cur_val = min_d[\"_\".join([str(x) for x in cur_pos])]\n",
    "            for pos in pos_moves:\n",
    "                pos_key = \"_\".join([str(x) for x in pos])\n",
    "                if pos_key in min_d:\n",
    "                    if min_d[pos_key]> cur_val+1:\n",
    "                        min_d[pos_key] = min(min_d[pos_key], cur_val+1)\n",
    "                        if pos not in to_check:\n",
    "                            to_check.append(pos)\n",
    "                else:\n",
    "                    min_d[pos_key] = cur_val+1\n",
    "                    if pos not in to_check:\n",
    "                        to_check.append(pos)\n",
    "        print(\"HEREEE\",min_d[\"_\".join([str(x) for x in end])])\n",
    "        "
   ]
  },
  {
   "cell_type": "code",
   "execution_count": 34,
   "metadata": {},
   "outputs": [],
   "source": [
    "xs,ys = np.where(data == 0)"
   ]
  },
  {
   "cell_type": "code",
   "execution_count": 36,
   "metadata": {},
   "outputs": [
    {
     "data": {
      "text/plain": [
       "1842"
      ]
     },
     "execution_count": 36,
     "metadata": {},
     "output_type": "execute_result"
    }
   ],
   "source": [
    "len(xs)"
   ]
  },
  {
   "cell_type": "code",
   "execution_count": null,
   "metadata": {},
   "outputs": [],
   "source": []
  }
 ],
 "metadata": {
  "kernelspec": {
   "display_name": "Python 3",
   "language": "python",
   "name": "python3"
  },
  "language_info": {
   "codemirror_mode": {
    "name": "ipython",
    "version": 3
   },
   "file_extension": ".py",
   "mimetype": "text/x-python",
   "name": "python",
   "nbconvert_exporter": "python",
   "pygments_lexer": "ipython3",
   "version": "3.8.5"
  }
 },
 "nbformat": 4,
 "nbformat_minor": 4
}
